{
 "cells": [
  {
   "cell_type": "markdown",
   "id": "d28b62d4",
   "metadata": {},
   "source": [
    "# Algoritmo esatto per un problema di Orienteering"
   ]
  },
  {
   "cell_type": "markdown",
   "id": "ecff6387",
   "metadata": {},
   "source": [
    "## Cos'è un problema di Orienteering?\n",
    "\n",
    "Il problema dell'**Orienteering (OP)** consiste nel generare percorsi vincolati nel **tempo TMAX (o nella distanza DMAX)** attraverso un grafo, per un giocatore (nel caso di applicazione reale in esame un turista), in modo tale che lo **score** ottenuto visitando i nodi venga massimizzato. Ciascun tour di un giocatore inizia in un nodo (**start point**) diverso dal nodo di terminazione (**end point**). \n",
    "\n",
    "Il problema dell'Orienteering (OP), presenta diverse generalizzazioni e varianti. Nel seguente elaborato si tratta il problema **deterministico**, in cui un giocatore sceglie l'insieme di nodi da visitare in maniera tale che il percorso di visita non ecceda l'intervallo di tempo specificato TMAX (o la distanza massima DMAX). Questo è un problema molto generale che si trova in numerose applicazioni, compreso il problema della **pianificazione di un tour turistico**.\n",
    "\n",
    "## Lo studio del problema di un'applicazione reale dell'Orienteering\n",
    "\n",
    "Si studia il problema della generazione automatica ed efficiente di itinerari per turisti che vogliono visitare il **sito archeologico di Pompei**. Fare il piano di visita che include i **Point Of Interest** più interessanti da visitare, per la distanza o tempo a disposizione, è solitamente un problema complesso. Pertanto si creano sistemi che tendono a massimizzare il più possibile la soddisfazione del turista realizzando un piano di viaggio personalizzato. \n",
    "\n",
    "Solitamente, i vincoli presi in considerazione dai sistemi di pianificazione in discussione sono: \n",
    "- ubicazione geografica dei POI (coordinate);\n",
    "- le distanze tra i POI;\n",
    "- punteggio di ciascun POI, ecc. \n",
    "\n",
    "Il problema più semplice nella pianificazione del tour può essere studiato come un problema di Orienteering (OP), dove viene fornito un numero $n$ di POI, ciascuno con un punteggio $S_i$. L’obiettivo è quello di avere un unico tour che includa il maggior numero di POI possibile, in modo da massimizzare il fattore di soddisfazione del viaggio. Si risolverà prima il problema con un metodo esatto, per poi valutarne le differenze attraverso degli approcci euristici."
   ]
  },
  {
   "cell_type": "markdown",
   "id": "9eb45388",
   "metadata": {},
   "source": [
    "## Formulazione matematica del problema\n",
    "\n",
    "L’obiettivo è pianificare un tour, con distanze massime variabili, che servirà al turista per la visita di un certo numero di ambienti del sito archeoligico/POI (Point Of Interest).\n",
    "\n",
    "In generale, da un punto di vista descrittivo si possono definire i seguenti **vincoli**:\n",
    "- non tutti gli ambienti possono essere visitati durante la visita, poichè i km percorsi durante la visita è limitato ad un certo *Dmax*;\n",
    "- ogni ambiente può essere visitato al massimo una volta.\n",
    "\n",
    "L’**obiettivo** è trovare una visita che includa il maggior valore di soddisfazione totale tenendo conto della distanza massima prefissata del viaggio. \n",
    "\n",
    "Per dimostrare la bontà del modello, si è provato ad applicarlo a delle **istanze Benchmark** al modello esatto e alle euristiche confrontandone i risultati. Soltanto dopo, si è applicato il modello all'applicazione reale descritta finora. "
   ]
  },
  {
   "cell_type": "markdown",
   "id": "57bd4abe",
   "metadata": {},
   "source": [
    "### Modellazione\n",
    "\n",
    "Sulla base dei fatti sopra indicati, il problema di pianificazione può essere definito con le seguenti espressioni matematiche:\n",
    "\n",
    "- **Variabili decisionali:**\n",
    "\n",
    "    - $x_{ij}$ = 1 se l’arco (𝑖,𝑗) ∈ 𝐴 appartiene al percorso seguito dal turista, 0 altrimenti\n",
    "\n",
    "    - $𝑦_𝑖$ = 1  se il nodo 𝑖 ∈ 𝑉 è visitato, 0 altrimenti\n",
    "    \n",
    "   "
   ]
  },
  {
   "cell_type": "markdown",
   "id": "8fb2f9c6",
   "metadata": {},
   "source": [
    "- **Funzione Obiettivo:**\n",
    "\\begin{equation}\n",
    "    max \\sum_{i=1}^n s_i y_i\n",
    "\\end{equation}\n",
    "\n",
    "\n",
    "La funzione obiettivo (1) è massimizzare il valore di soddisfazione dell’ambiente (Score)."
   ]
  },
  {
   "cell_type": "markdown",
   "id": "2977696d",
   "metadata": {},
   "source": [
    "- **Vincoli:**\n",
    "\n",
    "\\begin{equation}\n",
    "    \\sum_{j=2}^n x_{1j} = \\sum_{i=1}^{n-1} x_{in} = 1\n",
    "\\end{equation}\n",
    "\n",
    "Il vincolo (2) garantisce che il percorso inizi da uno *start point* e termini ad un *end point*.\n",
    "\n",
    "\\begin{equation}\n",
    "    \\sum_{i=1 \\\\ i \\neq j}^{n} x_{ij} = \\sum_{i=1 \\\\ i \\neq j}^{n} x_{ji} \\hspace{1cm} j = 2..n-1   \n",
    "\\end{equation}\n",
    "\n",
    "Il vincolo (3) garantisce che ogni nodo abbia un arco entrante e un arco uscente, in modo tale che ogni POI (diverso dallo start point e dall'end'point) venga visitato soltanto una volta.\n",
    "\n",
    "\\begin{equation}\n",
    "    \\sum_{i=1 \\\\ i \\neq j}^n x_{ij} = y_j \\hspace{1cm} j = 1..n\n",
    "\\end{equation}\n",
    "\n",
    "Il vincolo (4) garantisce che il generico nodo j è visitato se ha un arco entrante.\n",
    "\n",
    "\\begin{equation}\n",
    "    \\sum_{i=1}^n \\sum_{j=1 \\\\ i \\neq j}^n d_{ij} x_{ij} \\leq DMax\n",
    "\\end{equation}\n",
    "\n",
    "Il vincolo (5) garantisce che il percorso non può avere una distanza maggiore di **DMAX**.\n",
    "\n",
    "Per evitare che nella soluzione calcolata ci siano dei sottogiri sarà allora necessario eliminarli attraverso i vincoli di assenza di sottogiri:\n",
    "\n",
    "Si applicano sia i *Lazy Constraint* utilizzando i seguenti vincoli:\n",
    "\n",
    "\\begin{equation}\n",
    "    \\sum_{(i,j) \\epsilon S}^{} x_{ij} \\le |S| - 1  \\hspace{1cm} S \\subset V \\hspace{1cm} 2 \\le |S| \\le |V| - 1 \\label{subtour}\n",
    "\\end{equation}\n",
    "\n",
    "e sia gli *MTZ*, aggiungendo un ulteriore variabile di decisione $u_i$, che determina l'ordine di visita dell'$i$-esimo nodo\n",
    "\n",
    "\\begin{equation}\n",
    "    u_1 = 0\n",
    "\\end{equation}\n",
    "\\begin{equation}\n",
    "    0 \\leq u_i \\leq n-1 \\hspace{1cm} intera \\hspace{1cm} i=1..n\n",
    "\\end{equation}\n",
    "\\begin{equation}\n",
    "    u_j - u_i \\geq 1-n(1-x_{ij}) \\hspace{1cm} i,j = 1..n,i \\neq j,j \\neq 1\n",
    "\\end{equation}\n",
    "\n",
    "Ovviamente, dal punto di vista del risultato le differenze non sono apprezzabili, ma dal punto di vista dei tempi di esecuzione si notano notevoli differenze al crescere delle dimensioni del problema, come si vedrà in seguito.\n",
    "\n",
    "**Vincoli di fisica realizzabilità**\n",
    "\n",
    "\\begin{equation}\n",
    "    x_{ij}, y_{ij} \\hspace{0.2 cm} \\in {{0,1}} \\hspace{1cm} i,j \\in A\n",
    "\\end{equation}"
   ]
  },
  {
   "attachments": {},
   "cell_type": "markdown",
   "id": "4cd8bf3f",
   "metadata": {},
   "source": [
    "## Algoritmi risolutivi\n",
    "\n",
    "Per la risoluzione del problema ci avvaliamo dei seguenti algoritmi risolutivi utilizzando Python 3 ed eseguendo gli script su macchine che montano un processore Intel Core i7 (11 esima generazione, quad-core, 8 thread) e 16 GB di RAM alla frequenza di 3200MHz.\n",
    "\n",
    "### Algoritmo esatto\n",
    "\n",
    "L'approccio seguito è mostrato nel seguente diagramma:\n",
    "\n",
    "![Modello Esatto](Immagini_Jupyter/modelloesattosimple.png)\n",
    "\n",
    "#### Lettura dati dal .txt\n",
    "\n",
    "Per il test del modello è possibile utilizzare le seguenti istanze Benchmark:\n",
    "- Bench32\n",
    "- Bench52\n",
    "- Bench102\n",
    "\n",
    "In particolare, ogni riga dell'istanza Benchmark (Bench32, Bench52, Bench102) ha questo formato:\n",
    " - x y S\n",
    "\n",
    "dove: \\\n",
    "\tx\t= x coordinate \\\n",
    "\ty\t= y coordinate \\\n",
    "\tS\t= score\n",
    "\n",
    "*Osservazioni:*\n",
    " - La prima riga indica lo *start point*\n",
    " - L'ultima riga indica l' *end point*\n",
    "\n",
    "Per il test del modello dell'applicazione reale è possibile utilizzare le seguenti istanze create dagli AUTORI:\n",
    "- Scavi_Archeologici_Pompei_Anfiteatro_Misteri\n",
    "- Scavi_Archeologici_Pompei_Marina_Misteri\n",
    "- Scavi_Archeologici_Pompei_Marina_Anfiteatro\n",
    "\n",
    "*N.B.* Occorre inserire nella riga \"namefile\" il nome della relativa istanza \\\n",
    "*N.B.* Le istanze dell'applicazione reale sono state scelte sulla base di differenti start_point e end_point"
   ]
  },
  {
   "cell_type": "code",
   "execution_count": null,
   "id": "45fde3c7",
   "metadata": {},
   "outputs": [],
   "source": [
    "import pandas as pd\n",
    "\n",
    "siti = []\n",
    "coordinate = {}\n",
    "score = {}\n",
    "\n",
    "#Parametri del problema\n",
    "\n",
    "#Si scelga il metodo per l'eliminazione dei subtour:\n",
    "MTZ=0 #se è 1 uso gli MTZ, altrimenti uso i lazy constraints\n",
    "\n",
    "#Si scelga il DMAX\n",
    "\"\"\"\n",
    "    Per il test dei Benchmark usare i seguenti DMAX: 20,50,70\n",
    "    Per il test dell'applicazione reale usare i seguenti DMAX: 0.02,0.03,0.04\n",
    "    Tale differenza dei DMAX è dovuta dalla differenza delle distanze valutate tra i vari nodi\n",
    "    \n",
    "\"\"\"\n",
    "DMAX=0.04\n",
    "\n",
    "#Si inserisca l'istanza indicata nel riquadro superiore\n",
    "namefile = \"Scavi_Archeologici_Pompei_Anfiteatro_Misteri\"\n",
    "with open('./IstanzeBenchmark/' + namefile + '.txt') as file:\n",
    "    for i, line in enumerate(file):\n",
    "            node = line.split(',')\n",
    "            if (namefile == \"Scavi_Archeologici_Pompei_Anfiteatro_Misteri\" or \n",
    "                namefile == \"Scavi_Archeologici_Pompei_Marina_Misteri\" or\n",
    "                namefile == \"Scavi_Archeologici_Pompei_Marina_Anfiteatro\" ):\n",
    "                sito = str(node[0])\n",
    "                siti.append(sito)\n",
    "                coordinate[sito] = (float(node[2]),float(node[1]))\n",
    "                score[sito] = int(node[3])\n",
    "                zoom = 16\n",
    "                raggio = 900\n",
    "            else:\n",
    "                sito = str(i)\n",
    "                siti.append(sito)\n",
    "                coordinate[sito] = (float(node[1]),float(node[0]))\n",
    "                score[sito] = int(node[2])\n",
    "                zoom = 5\n",
    "                raggio = 5000000"
   ]
  },
  {
   "cell_type": "markdown",
   "id": "9d6b6075",
   "metadata": {},
   "source": [
    "#### Calcolo distanza tra due POI\n",
    "\n",
    "Per la valutazione delle distanze tra i POI si è utilizzata la metrica Euclidea. \\\n",
    "Siano due punti $P_i$ e $P_j$ allora:\n",
    "\n",
    "\\begin{equation}\n",
    "    d(P_i, P_j) = [(x_i - x_j)^2 + (y_i - y_j)^2]^{(\\frac{1}{2})}\n",
    "\\end{equation}\n"
   ]
  },
  {
   "cell_type": "code",
   "execution_count": null,
   "id": "40852c4f",
   "metadata": {},
   "outputs": [],
   "source": [
    "import math\n",
    "\n",
    "def distance(sito1, sito2):\n",
    "    c1 = coordinate[sito1]\n",
    "    c2 = coordinate[sito2]\n",
    "    \n",
    "    #Metrica di Euclide per la valutazione della distanza tra due punti\n",
    "    diff = (c1[0]-c2[0], c1[1]-c2[1])\n",
    "    return (math.sqrt(diff[0]*diff[0]+diff[1]*diff[1]))\n",
    "\n",
    "dist = {(c1, c2): distance(c1, c2) for c1 in siti for c2 in siti if c1 != c2 }"
   ]
  },
  {
   "cell_type": "markdown",
   "id": "e087a072",
   "metadata": {},
   "source": [
    "#### Calcolo del punto medio tra quelli dati per rappresentarli sulla mappa\n",
    "\n",
    "Utile per la visualizzazione ottimale della mappa su Folium."
   ]
  },
  {
   "cell_type": "code",
   "execution_count": null,
   "id": "7e7e6136",
   "metadata": {},
   "outputs": [],
   "source": [
    "media_lat=0\n",
    "media_long=0\n",
    "\n",
    "for sito in siti:\n",
    "    media_lat = media_lat + coordinate[sito][0]\n",
    "    media_long = media_long + coordinate[sito][1]\n",
    "    \n",
    "lat=media_lat/len(coordinate)\n",
    "long=media_long/len(coordinate)"
   ]
  },
  {
   "cell_type": "markdown",
   "id": "3a5e9771",
   "metadata": {},
   "source": [
    "#### Visualizzazione dei nodi del problema sulla mappa"
   ]
  },
  {
   "cell_type": "code",
   "execution_count": null,
   "id": "8c42c453",
   "metadata": {
    "scrolled": false
   },
   "outputs": [],
   "source": [
    "#Marker sulla mappa: I nodi del problema\n",
    "import folium\n",
    "map = folium.Map(location=[lat,long], zoom_start = zoom)\n",
    "for sito in siti:\n",
    "    folium.Marker(location = coordinate[sito], tooltip = sito, icon=folium.Icon(color='darkred')).add_to(map)\n",
    "\n",
    "# add search area circle\n",
    "folium.Circle(radius=raggio, location=[lat,long], color='darkred').add_to(map)\n",
    "\n",
    "map"
   ]
  },
  {
   "cell_type": "markdown",
   "id": "6bfeb942",
   "metadata": {},
   "source": [
    "#### Definizione del modello su Gurobi per l'algoritmo esatto\n",
    "\n",
    "Si inizializza il modello e si definiscono le variabili di decisione $x_{ij}$ e $y_i$"
   ]
  },
  {
   "cell_type": "code",
   "execution_count": null,
   "id": "3b1ce929",
   "metadata": {},
   "outputs": [],
   "source": [
    "#MODELLAZIONE GUROBI\n",
    "import numpy as np\n",
    "import gurobipy as gp\n",
    "from gurobipy import GRB\n",
    "\n",
    "if (namefile == \"Scavi_Archeologici_Pompei_Anfiteatro_Misteri\" or \n",
    "    namefile == \"Scavi_Archeologici_Pompei_Marina_Misteri\" or\n",
    "    namefile == \"Scavi_Archeologici_Pompei_Marina_Anfiteatro\" ):\n",
    "    model = gp.Model('Pompei_orienteering') #definizione del modello\n",
    "else:\n",
    "    model = gp.Model(str(namefile) + '_orienteering') #definizione del modello\n",
    "\n",
    "#Definizione variabili di decisione\n",
    "Xvars = model.addVars(dist.keys(), obj = score, vtype = GRB.BINARY, name = 'x') #xij\n",
    "Yvars = model.addVars(siti, obj = 0.0, vtype = GRB.BINARY, name = 'y')  #yi"
   ]
  },
  {
   "cell_type": "markdown",
   "id": "88920ee0",
   "metadata": {},
   "source": [
    "#### Funzione obiettivo\n",
    "\n",
    "\\begin{equation}\n",
    "    max \\sum_{i=1}^n s_i y_i\n",
    "\\end{equation}"
   ]
  },
  {
   "cell_type": "code",
   "execution_count": null,
   "id": "56062d24",
   "metadata": {},
   "outputs": [],
   "source": [
    "#Definizione della funzione obiettivo\n",
    "obj = model.setObjective(gp.quicksum(Yvars[i]*score[i] for i in siti), gp.GRB.MAXIMIZE)"
   ]
  },
  {
   "cell_type": "markdown",
   "id": "966bc5ef",
   "metadata": {},
   "source": [
    "#### Vincoli sullo start point e l'end point\n",
    "\n",
    "\\begin{equation}\n",
    "    \\sum_{j=2}^n x_{1j} = \\sum_{i=1}^{n-1} x_{in} = 1\n",
    "\\end{equation}"
   ]
  },
  {
   "cell_type": "code",
   "execution_count": null,
   "id": "4c245672",
   "metadata": {},
   "outputs": [],
   "source": [
    "start_point = siti[0]\n",
    "#Dal nodo di partenza (si indichi quale) esce soltanto un nodo\n",
    "OutFirst = model.addConstr(Xvars.sum(start_point,'*') == 1) "
   ]
  },
  {
   "cell_type": "code",
   "execution_count": null,
   "id": "ae79b5b1",
   "metadata": {},
   "outputs": [],
   "source": [
    "end_point = siti[len(siti)-1]\n",
    "#Dal nodo di uscita (si indichi quale) esce soltanto un nodo\n",
    "InLast = model.addConstr(Xvars.sum('*',end_point) == 1)"
   ]
  },
  {
   "cell_type": "markdown",
   "id": "d4a687b9",
   "metadata": {},
   "source": [
    "#### Vincoli di bilancio\n",
    "\n",
    "\\begin{equation}\n",
    "    \\sum_{i=1 \\\\ i \\neq j}^{n-1} x_{ij} = \\sum_{i=2 \\\\ i \\neq j}^{n} x_{ji} \\hspace{1cm} j = 2..n-1   \n",
    "\\end{equation}"
   ]
  },
  {
   "cell_type": "code",
   "execution_count": null,
   "id": "aed2f121",
   "metadata": {},
   "outputs": [],
   "source": [
    "#Vincolo di bilancio degli archi sui nodi intermedi\n",
    "Balance = model.addConstrs((gp.quicksum(Xvars.sum(i,j) for i in siti if i != end_point) \n",
    "                            == gp.quicksum(Xvars.sum(j,i) for i in siti if i != start_point)\n",
    "                            for j in siti if i != j and j != start_point and j != end_point))"
   ]
  },
  {
   "cell_type": "markdown",
   "id": "657cb9cb",
   "metadata": {},
   "source": [
    "#### Vincoli di apertura di un nodo\n",
    "\n",
    "\\begin{equation}\n",
    "    \\sum_{i=2 \\\\ i \\neq j}^n x_{ji} = y_j \\hspace{1cm} j = 1..n-1\n",
    "\\end{equation}"
   ]
  },
  {
   "cell_type": "code",
   "execution_count": null,
   "id": "ebef0caf",
   "metadata": {},
   "outputs": [],
   "source": [
    "#Vincolo di visita\n",
    "Visited = model.addConstrs((gp.quicksum(Xvars.sum(j,i) for i in siti if i != start_point) == Yvars[j]\n",
    "                            for j in siti if i != j and j != end_point))"
   ]
  },
  {
   "cell_type": "markdown",
   "id": "a2ddf08d",
   "metadata": {},
   "source": [
    "#### Vincoli sulla distanza massima\n",
    "\n",
    "\\begin{equation}\n",
    "    \\sum_{i=1}^n \\sum_{j=1 \\\\ i \\neq j}^n d_{ij} x_{ij} \\leq DMax\n",
    "\\end{equation}"
   ]
  },
  {
   "cell_type": "code",
   "execution_count": null,
   "id": "60c32441",
   "metadata": {},
   "outputs": [],
   "source": [
    "#Vincolo sul DMAX (si indica il tempo di visita)\n",
    "MaxDistanza = model.addConstr((gp.quicksum(Xvars[i,j]*dist[i,j] for i in siti for j in siti if i != j) <= DMAX))"
   ]
  },
  {
   "cell_type": "markdown",
   "id": "9b782280",
   "metadata": {},
   "source": [
    "#### Vincoli di assenza di sottogiri MTZ\n",
    "\n",
    "Per una implementazione più semplice si è deciso di valutare gli MTZ nel seguente modo. \\\n",
    "Se $x_{i,j} = 1$ allora:\n",
    "\n",
    "\\begin{equation}\n",
    "u_i + 1 = u_j \\hspace{1cm} i,j = 1..n,i \\neq j,j \\neq 1\n",
    "\\end{equation}\n"
   ]
  },
  {
   "cell_type": "code",
   "execution_count": null,
   "id": "0894d2b1",
   "metadata": {},
   "outputs": [],
   "source": [
    "#Vincoli di sottogiro MTZ\n",
    "if MTZ == 1:\n",
    "    #definizione della variabile ui\n",
    "    Uvars = model.addVars(siti, vtype = GRB.CONTINUOUS, name = 'u')\n",
    "    \n",
    "    #Se Xij = 1 allora uj = ui + 1 (SE E SOLTANTO SE >>)\n",
    "    Posizione = model.addConstrs((Xvars[i,j] == 1) >> (Uvars[i]+1==Uvars[j]) for i in siti for j in siti \n",
    "                                 if j != start_point and i != j)"
   ]
  },
  {
   "cell_type": "markdown",
   "id": "9ef8d738",
   "metadata": {},
   "source": [
    "#### Vincoli di assenza di sottogiri 'Lazy Constraints'\n",
    "\n",
    "In alternativa ai vincoli di sottogiro MTZ, si possono aggiungere i **Lazy Constraints** (modificando opportunamente quelli offerti da GUROBI)\n",
    "\n",
    "\\begin{equation}\n",
    "    \\sum_{(i,j) \\epsilon S}^{} x_{ij} \\le |S| - 1  \\hspace{1cm} S \\subset V \\hspace{1cm} 2 \\le |S| \\le |V| - 1 \\label{subtour}\n",
    "\\end{equation}\n",
    "\n",
    "In particolare, rispetto all'implementazione classica, si è spostata l'istruzione per aggiungere i lazy constraints nella funzione subtour(), in quanto occorre aggiungere un vincolo del tipo appena visto, ogni qualvolta si incontra nella soluzione intera restituita da Gurobi un sottogiro formato da nodi diversi dallo start ed end point.\n",
    "\n",
    "La principale **differenza** rispetto ai vincoli MTZ è rappresentata dal fatto che i Lazy Constraint permettono di risolvere il modello 'rilassato', ovvero, senza i vincoli di assenza di sottogiri ed aggiungerli solo quando si arriva a trovare una soluzione corrente intera. Ciò permette di considerare un numero notevolmente inferiore di vincoli, che nel caso di MTZ sono in numero polinomiale."
   ]
  },
  {
   "cell_type": "code",
   "execution_count": null,
   "id": "5511328d",
   "metadata": {},
   "outputs": [],
   "source": [
    "#Funzioni per eliminare i subtour (Callback)\n",
    "def subtourelim(model, where):\n",
    "    if where == GRB.Callback.MIPSOL:\n",
    "        # preleva la soluzione corrente\n",
    "        Xvals = model.cbGetSolution(model._Xvars)\n",
    "        selected = gp.tuplelist((i,j) for i, j in model._Xvars.keys() if Xvals[i,j] > 0.5)\n",
    "        # cerca il ciclo di lunghezza minima nella soluzione\n",
    "        tour = subtour(selected)\n",
    "\n",
    "def subtour(edges):\n",
    "    unvisited = list(siti)\n",
    "    while unvisited:\n",
    "        thiscycle = []\n",
    "        neighbors = unvisited\n",
    "        while neighbors:\n",
    "            current = neighbors[0]\n",
    "            thiscycle.append(current)\n",
    "            unvisited.remove(current)\n",
    "            neighbors = [j for i, j in edges.select(current, '*')\n",
    "                            if j in unvisited]\n",
    "        #aggiunto vincolo come nella formulazione\n",
    "        if len(thiscycle) >= 2 and len(thiscycle) <= len(siti)-1: \n",
    "            model.cbLazy(gp.quicksum(model._Xvars[i,j] for i in thiscycle for j in thiscycle if i != j )\n",
    "                         <= len(thiscycle)-1)"
   ]
  },
  {
   "cell_type": "markdown",
   "id": "459f4f84",
   "metadata": {},
   "source": [
    "#### Scrittura del modello completo su .lp ed esecuzione del solutore"
   ]
  },
  {
   "cell_type": "code",
   "execution_count": null,
   "id": "350f5dec",
   "metadata": {},
   "outputs": [],
   "source": [
    "if (namefile == \"Scavi_Archeologici_Pompei_Anfiteatro_Misteri\" or \n",
    "    namefile == \"Scavi_Archeologici_Pompei_Marina_Misteri\" or\n",
    "    namefile == \"Scavi_Archeologici_Pompei_Marina_Anfiteatro\" ):\n",
    "    model.write(str(namefile) + '_orienteering.lp')\n",
    "else:\n",
    "    model.write(str(namefile) + '_orienteering.lp')"
   ]
  },
  {
   "cell_type": "markdown",
   "id": "b69396cd",
   "metadata": {},
   "source": [
    "Se l'esecuzione del solutore impiega molto tempo (al max 120s) rimuovere il commento: \\\n",
    "*#model.Params.MIPGap = 0.30* e scegliere la percentuale di MIPGap di Gurobi (in questo caso del 30%)\n",
    "\n",
    "Gurobi infatti \"misura\" l'ottimalità della soluzione attraverso il rapporto tra:\n",
    "\n",
    "\\begin{equation}\n",
    "MIPGap = \\frac{|best_{objective} - best_{bound}|}{best_{objective}}\n",
    "\\end{equation}\n",
    "\n",
    "Se non gli viene fornita una percentuale, Gurobi continuerà ad eseguire fino a quando il MIPGap non raggiungerà lo 0.00% e purtroppo essendo che le dimensioni del problema sono rilevanti impiegherà molto tempo per valutare l'ottima soluzione, soprattutto con l'utilizzo degli MTZ."
   ]
  },
  {
   "cell_type": "code",
   "execution_count": null,
   "id": "a4cefd5e",
   "metadata": {},
   "outputs": [],
   "source": [
    "import time\n",
    "start = time.time() #Start-Esecuzione\n",
    "\n",
    "if MTZ == 1:\n",
    "    #model.Params.MIPGap = 0.10 #**50 *30 ***10 \n",
    "    model.optimize()\n",
    "else:\n",
    "    model._Xvars = Xvars\n",
    "    model.Params.lazyConstraints = 1\n",
    "    model.optimize(subtourelim)\n",
    "    \n",
    "end = time.time()\n",
    "time_exec = round(end - start,3)\n",
    "print('Tempo di esecuzione ' + str(time_exec))"
   ]
  },
  {
   "cell_type": "markdown",
   "id": "656e4b48",
   "metadata": {},
   "source": [
    "#### Stampa dei risultati \n",
    "Il risultato indica il percorso da seguire:"
   ]
  },
  {
   "cell_type": "code",
   "execution_count": null,
   "id": "d7d2c466",
   "metadata": {},
   "outputs": [],
   "source": [
    "#Funzione per costruire il percorso a partire dalla soluzione\n",
    "def createtour(solution):\n",
    "    unvisited = list(siti)\n",
    "    neighbors = unvisited\n",
    "    tour = []\n",
    "    while neighbors:\n",
    "            current = neighbors[0]\n",
    "            tour.append(current)\n",
    "            unvisited.remove(current)\n",
    "            neighbors = [j for i, j in solution.select(current, '*')\n",
    "                            if j in unvisited]\n",
    "    return tour"
   ]
  },
  {
   "cell_type": "code",
   "execution_count": null,
   "id": "60234f63",
   "metadata": {},
   "outputs": [],
   "source": [
    "#Stampa dei risultati\n",
    "if model.status == GRB.OPTIMAL:\n",
    "\n",
    "    foundOptimalSol = True\n",
    "    Xvals = model.getAttr('x', Xvars)\n",
    "    #ottengo la soluzione\n",
    "    solution = gp.tuplelist((i,j) for i,j in Xvals.keys() if Xvals[i,j] > 0.5)\n",
    "    #prelevo il punteggio\n",
    "    punteggio = model.ObjVal\n",
    "    \n",
    "    #Stampa del percorso ricavato con le MTZ\n",
    "    if MTZ == 1:\n",
    "        Uvals = model.getAttr('x', Uvars)\n",
    "        \n",
    "        optTour=createtour(solution)\n",
    "        percorso=list(optTour)\n",
    "        \n",
    "        print('Valore di soddisfazione TOTALE - MTZ: %g' % punteggio)\n",
    "    \n",
    "    #Stampa del percorso ricavato con i Lazy Constraints\n",
    "    else:\n",
    "        optTour=createtour(solution)\n",
    "        percorso=list(optTour)\n",
    "\n",
    "        punteggio=0\n",
    "        for i in percorso:\n",
    "            punteggio+=score[i]\n",
    "        \n",
    "        print('Valore di soddisfazione TOTALE - LAZY: %g' % punteggio)\n",
    "    \n",
    "    #Stampa del numero dei Point of Interests\n",
    "    print(\"N.POI: %g\" % len(percorso))\n",
    "    \n",
    "    #Stampa della distanza totale\n",
    "    lunghezza=0\n",
    "    for i in solution:\n",
    "        lunghezza+=dist[i]\n",
    "    print('Distanza percorsa in km (lda): ' + str(lunghezza))\n",
    "    \n",
    "    #Stampa del percorso\n",
    "    print(percorso)"
   ]
  },
  {
   "cell_type": "markdown",
   "id": "4ff97741",
   "metadata": {},
   "source": [
    "#### Stampa del tour in linea d'aria"
   ]
  },
  {
   "cell_type": "code",
   "execution_count": null,
   "id": "a4c530f7",
   "metadata": {
    "scrolled": false
   },
   "outputs": [],
   "source": [
    "# Stampa del tour degli scavi di Pompei in linea d'aria \n",
    "import folium\n",
    "import folium.plugins as plugins\n",
    "map = folium.Map(location=[lat,long], zoom_start = zoom)\n",
    "\n",
    "points = []\n",
    "for sito in percorso:\n",
    "    points.append(coordinate[sito])\n",
    "    if sito == start_point: #start point \n",
    "            folium.Marker(location = coordinate[sito], tooltip = sito, \n",
    "                          icon=plugins.BeautifyIcon(icon=\"arrow-down\", icon_shape=\"marker\",\n",
    "                                                    border_color= '#b22222',\n",
    "                                                    background_color='#b22222')).add_to(map)\n",
    "    elif sito == end_point: #end point\n",
    "            folium.Marker(location = coordinate[sito], tooltip = sito, \n",
    "                          icon=plugins.BeautifyIcon(icon=\"arrow-down\", icon_shape=\"marker\",\n",
    "                                                    border_color= '#ffd700',\n",
    "                                                    background_color='#ffd700')).add_to(map)\n",
    "    else:\n",
    "            folium.Marker(location = coordinate[sito], tooltip = sito, icon=folium.Icon(color='darkred')).add_to(map)\n",
    "    \n",
    "\n",
    "\n",
    "folium.PolyLine(points, color='darkred').add_to(map)\n",
    "\n",
    "map"
   ]
  },
  {
   "cell_type": "code",
   "execution_count": null,
   "id": "c8415d88",
   "metadata": {},
   "outputs": [],
   "source": [
    "conv_coord = []\n",
    "mytour=[]\n",
    "i=0\n",
    "for sito in percorso:\n",
    "    conv_coord.append((coordinate[sito][1],coordinate[sito][0]))\n",
    "    mytour.append(list(conv_coord[i]))\n",
    "    i+=1"
   ]
  },
  {
   "cell_type": "markdown",
   "id": "1f31688d",
   "metadata": {},
   "source": [
    "#### Stampa del percorso a piedi per l'applicazione reale (Scavi di Pompei)"
   ]
  },
  {
   "cell_type": "code",
   "execution_count": null,
   "id": "e9712e34",
   "metadata": {
    "scrolled": false
   },
   "outputs": [],
   "source": [
    "#Stampa del percorso per vie REALI \n",
    "#(ovviamente la distanza in km sarà leggermente diversa da quella in linea d'aria)\n",
    "if (namefile == \"Scavi_Archeologici_Pompei_Anfiteatro_Misteri\" or \n",
    "    namefile == \"Scavi_Archeologici_Pompei_Marina_Misteri\" or\n",
    "    namefile == \"Scavi_Archeologici_Pompei_Marina_Anfiteatro\" ):    \n",
    "        import openrouteservice as ors\n",
    "        import folium\n",
    "        import folium.plugins as plugins\n",
    "\n",
    "        # API Key di Open Route Service\n",
    "        ors_key = '5b3ce3597851110001cf6248435cfcfbcf0c42858fde19dccf6f9c0f'\n",
    "\n",
    "        # Richiesta dei servizi tramite API Key di ORS\n",
    "        # Apro un Client per effettuare le richieste al Server di ORS\n",
    "        client = ors.Client(key=ors_key)\n",
    "\n",
    "        # Traccio il percorso\n",
    "        route = client.directions(coordinates=mytour,\n",
    "                                  profile='foot-walking',\n",
    "                                  format='geojson')\n",
    "\n",
    "\n",
    "        map = folium.Map(location=[lat,long], zoom_start = zoom)\n",
    "        #for sito in percorso:\n",
    "            #folium.Marker(location = coordinate[sito], tooltip = sito).add_to(map)\n",
    "\n",
    "        num = 0\n",
    "        for sito in percorso:\n",
    "            if sito == start_point: #start point \n",
    "                folium.Marker(location = coordinate[sito], tooltip = sito, \n",
    "                              icon=plugins.BeautifyIcon(icon=\"arrow-down\", icon_shape=\"marker\",\n",
    "                                                        number=num,\n",
    "                                                        border_color= '#b22222',\n",
    "                                                        background_color='#b22222')).add_to(map)\n",
    "            elif sito == end_point: #end point\n",
    "                folium.Marker(location = coordinate[sito], tooltip = sito, \n",
    "                              icon=plugins.BeautifyIcon(icon=\"arrow-down\", icon_shape=\"marker\",\n",
    "                                                        number=num,\n",
    "                                                        border_color= '#ffd700',\n",
    "                                                        background_color='#ffd700')).add_to(map)\n",
    "            else:\n",
    "                folium.Marker(location = coordinate[sito], tooltip = sito, \n",
    "                              icon=plugins.BeautifyIcon(icon=\"arrow-down\", icon_shape=\"marker\",\n",
    "                                                        number=num,\n",
    "                                                        border_color= '#b22222',\n",
    "                                                        background_color='#ffffff')).add_to(map)\n",
    "            num+=1\n",
    "\n",
    "        # Aggiungo il GeoJson alla mappa\n",
    "        folium.GeoJson(route, name=('Itinerario Scavi di Pompei con ' + str(DMAX) + ' ore'), \n",
    "                       style_function=lambda feature: {'color': 'darkred'}).add_to(map)\n",
    "\n",
    "        # Aggiungo il livello del percorso alla mappa\n",
    "        folium.LayerControl().add_to(map)\n",
    "\n",
    "        print('Distanza percorsa in km (reale): ' + str((route['features'][0]['properties']['summary']['distance'])/1000))\n",
    "\n",
    "map"
   ]
  },
  {
   "cell_type": "code",
   "execution_count": null,
   "id": "72b75c24",
   "metadata": {},
   "outputs": [],
   "source": [
    "if (namefile == \"Scavi_Archeologici_Pompei_Anfiteatro_Misteri\" or \n",
    "    namefile == \"Scavi_Archeologici_Pompei_Marina_Misteri\" or\n",
    "    namefile == \"Scavi_Archeologici_Pompei_Marina_Anfiteatro\" ):\n",
    "    model.write(str(namefile) + '_orienteering_sol.lp')\n",
    "else:\n",
    "    model.write(str(namefile) + '_orienteering_sol.lp')"
   ]
  },
  {
   "cell_type": "markdown",
   "id": "a35e2f0d",
   "metadata": {},
   "source": [
    "#### Salvataggio dei risultati"
   ]
  },
  {
   "cell_type": "code",
   "execution_count": null,
   "id": "f4af40bd",
   "metadata": {},
   "outputs": [],
   "source": [
    "import csv\n",
    "\n",
    "colonne = ['Istanza','DMAX','Metodo','N.POI','Lunghezza percorso (km)','Valore di soddisfazione (TOTALE)','Tempo di esecuzione (s)']\n",
    "with open('./Confronti.csv', mode='a', newline='') as csv_file:\n",
    "    \n",
    "    writer = csv.DictWriter(csv_file, fieldnames=colonne)\n",
    "\n",
    "    if MTZ==1:\n",
    "        writer.writerow({'Istanza': namefile,'DMAX': DMAX,'Metodo': 'OPT MTZ','N.POI': len(percorso),'Lunghezza percorso (km)': round(lunghezza,5),'Valore di soddisfazione (TOTALE)': punteggio, 'Tempo di esecuzione (s)': time_exec})\n",
    "    else:\n",
    "        writer.writerow({'Istanza': namefile,'DMAX': DMAX,'Metodo': 'OPT L.C.','N.POI': len(percorso),'Lunghezza percorso (km)': round(lunghezza,5),'Valore di soddisfazione (TOTALE)': punteggio, 'Tempo di esecuzione (s)': time_exec})\n",
    "        "
   ]
  }
 ],
 "metadata": {
  "kernelspec": {
   "display_name": "Python 3 (ipykernel)",
   "language": "python",
   "name": "python3"
  },
  "language_info": {
   "codemirror_mode": {
    "name": "ipython",
    "version": 3
   },
   "file_extension": ".py",
   "mimetype": "text/x-python",
   "name": "python",
   "nbconvert_exporter": "python",
   "pygments_lexer": "ipython3",
   "version": "3.9.7"
  },
  "vscode": {
   "interpreter": {
    "hash": "bc88ece4a71226d2b040490c648e01366ee9687ac09cde409fcfde11805ceeb2"
   }
  }
 },
 "nbformat": 4,
 "nbformat_minor": 5
}
