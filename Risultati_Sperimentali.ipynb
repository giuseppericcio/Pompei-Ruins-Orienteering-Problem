{
 "cells": [
  {
   "cell_type": "markdown",
   "id": "d28b62d4",
   "metadata": {},
   "source": [
    "# Risultati dei Benchmark e dell'applicazione reale: Pompeii Ruins"
   ]
  },
  {
   "cell_type": "markdown",
   "id": "d1bc9394",
   "metadata": {},
   "source": [
    "### Analisi Benchmarck dell'algoritmo esatto \n",
    "\n",
    "I risultati ottenuti nei benchmark sono i seguenti:"
   ]
  },
  {
   "cell_type": "markdown",
   "id": "b8966de5",
   "metadata": {},
   "source": [
    "#### Risultati Benchmark ottenuti con i vincoli di Lazy Constraints\n",
    "\n",
    "Dalla **TAB.1** si può notare come l'algoritmo esatto sia riuscito a valutare il massimo valore di soddisfazione in tempi ragionevoli con un numero di nodi 32,52. Nel momento in cui si è aumentato il numero dei nodi intorno ai 100 l'algoritmo non riesce a restituire una soluzione in tempi complessivamente buoni.\n",
    "\n",
    "| **Istanza** | **DMAX** | **Metodo** | **N.POI** | **Lunghezza percorso 100x(km)** | **Valore di soddisfazione (TOTALE)** | **Tempo di esecuzione (s)** |\n",
    "|-------------|----------|------------|-----------|-----------------------------|--------------------------------------|-----------------------------|\n",
    "| Bench32     | 20       | OPT L.C.   | 9         | 19.6855                     | 65                                   | 2.983                       |\n",
    "| Bench32     | 50       | OPT L.C.   | 23        | 49.99743                    | 190                                  | 2.628                       |\n",
    "| Bench32     | 70       | OPT L.C.   | 28        | 69.12729                    | 260                                  | 0.23                        |\n",
    "| Bench52     | 20       | OPT L.C.   | 8         | 18.51443                    | 146                                  | 0.218                       |\n",
    "| Bench52     | 50       | OPT L.C.   | 21        | 48.50606                    | 313                                  | 54.861                      |\n",
    "| Bench52     | 70       | OPT L.C.   | 27        | 68.3257                     | 436                                  | 37.71                       |\n",
    "| Bench102    | 20       | OPT L.C.   | 4         | 18.03276                    | 32                                   | 30.497                      |\n",
    "| Bench102    | 50       | OPT L.C.   | -         | -                           | -                                    | -                           |\n",
    "| Bench102    | 70       | OPT L.C.   | -         | -                           | -                                    | -                           |\n",
    "\n",
    "<center> <b>TAB.1 - Lazy Constraints - Bench</b> </center>\n",
    "\n",
    "\n",
    "*Le **celle vuote** indicano che l'esecuzione ha impiegato un tempo maggiore di 100s*\n"
   ]
  },
  {
   "cell_type": "markdown",
   "id": "30dc09e5",
   "metadata": {},
   "source": [
    "#### Risultati benchmark ottenuti con i vincoli di MTZ\n",
    "\n",
    "Se nell'algoritmo esatto si applicano i vincoli di MTZ i tempi di esecuzione, a parità di risultati con i lazy constraint, sono peggiorati e si ha anche un numero di celle vuote maggiore rispetto all'uso dei vincoli lazy. Questo dimostra come la scelta di applicare i vincoli Lazy sia stata premiata con la diminuzione dei tempi di esecuzione e con l'aumento del numero di soluzioni ottime al problema di dimensioni maggiori. (Il motivo è spiegato nel notebook: Algoritmo_esatto_Orienteering.ipynb) \n",
    "\n",
    "| **Istanza** | **DMAX** | **Metodo** | **N.POI** | **Lunghezza percorso 100x(km)** | **Valore di soddisfazione (TOTALE)** | **Tempo di esecuzione (s)** |\n",
    "|-------------|----------|------------|-----------|-----------------------------|--------------------------------------|-----------------------------|\n",
    "| Bench32     | 20       | OPT MTZ    | 9         | 19.93661                    | 65.0                                 | 12.677                      |\n",
    "| Bench32     | 50       | OPT MTZ    | 19        | 49.47709                    | 175.0                                | 4.826*                      |\n",
    "| Bench32     | 70       | OPT MTZ    | 28        | 69.95678                    | 260.0                                | 92.77                       |\n",
    "| Bench52     | 20       | OPT MTZ    | 8         | 18.51443                    | 146.0                                | 0.278                       |\n",
    "| Bench52     | 50       | OPT MTZ    | 21        | 48.50606                    | 313.0                                | 45.515**                    |\n",
    "| Bench52     | 70       | OPT MTZ    | -         | -                           | -                                    | -                           |\n",
    "| Bench102    | 20       | OPT MTZ    | 4         | 18.03276                    | 32.0                                 | 6.778                       |\n",
    "| Bench102    | 50       | OPT MTZ    | -         | -                           | -                                    | -                           |\n",
    "| Bench102    | 70       | OPT MTZ    | -         | -                           | -                                    | -                           |\n",
    "\n",
    "<center> <b>TAB.2 - MTZ - Bench</b> </center>\n",
    "\n",
    "*Le **celle vuote** indicano che l'esecuzione ha impiegato un tempo maggiore di 100s*\n",
    "Ci sono risultati in cui si è aggiunto il: \\\n",
    "MIPGap = 10% $^{***}$\\\n",
    "MIPGap = 50% $^{**}$\\\n",
    "MIPGap = 30% $^*$"
   ]
  },
  {
   "cell_type": "markdown",
   "id": "9872db3e",
   "metadata": {},
   "source": [
    "#### Risultati Benchmark ottenuti con gli algoritmi Heuristic PJS  e Multistart PJS\n",
    "\n",
    "I risultati dell'euristica PJS sono stati ottenuti in tempi di esecuzione istantanei (0.0). Questo perchè è una soluzione iniziale valutata con l'approccio Greedy. A partire da esso, viene applicato l'approccio euristico multistart utilizzando il BRA (Biased Randomisation Approach) per migliorare la soluzione (ecco il motivo dei tempi maggiori di esecuzione). Tuttavia i risultati sono stati i medesimi, ma come vedremo nella tabella della valutazione del GAP (EUR-OPT) i risultati non sono stati soddisfacenti sebbene si è riusciti ad avere una soluzione per tutte le combinazioni.\n",
    "\n",
    "| **Istanza** | **DMAX** | **Metodo** | **N.POI** | **Lunghezza percorso 100x(km)** | **Valore di soddisfazione (TOTALE)** | **Tempo di esecuzione (s)** |\n",
    "|-------------|----------|------------|-----------|-----------------------------|--------------------------------------|-----------------------------|\n",
    "| Bench32     | 20       | Heuristic  | 9         | 19.7638                     | 55                                   | 0.0                         |\n",
    "| Bench32     | 20       | Multistart | 9         | 19.7638                     | 55                                   | 1.55                        |\n",
    "| Bench32     | 50       | Heuristic  | 21        | 48.17285                    | 180                                  | 0.0                         |\n",
    "| Bench32     | 50       | Multistart | 21        | 48.17285                    | 180                                  | 1.406                       |\n",
    "| Bench32     | 70       | Heuristic  | 23        | 55.08277                    | 190                                  | 0.0                         |\n",
    "| Bench32     | 70       | Multistart | 23        | 55.08277                    | 190                                  | 1.453                       |\n",
    "| Bench52     | 20       | Heuristic  | 6         | 18.3982                     | 101                                  | 0.0                         |\n",
    "| Bench52     | 20       | Multistart | 6         | 18.3982                     | 101                                  | 9.808                       |\n",
    "| Bench52     | 50       | Heuristic  | 13        | 48.95193                    | 241                                  | 0.0                         |\n",
    "| Bench52     | 50       | Multistart | 13        | 48.95193                    | 241                                  | 10.293                      |\n",
    "| Bench52     | 70       | Heuristic  | 18        | 62.69676                    | 289                                  | 0.0                         |\n",
    "| Bench52     | 70       | Multistart | 18        | 62.69676                    | 289                                  | 10.118                      |\n",
    "| Bench102    | 20       | Heuristic  | 4         | 18.03276                    | 32                                   | 0.0                         |\n",
    "| Bench102    | 20       | Multistart | 4         | 18.03276                    | 32                                   | 138.479                     |\n",
    "| Bench102    | 50       | Heuristic  | 10        | 47.90494                    | 161                                  | 0.0                         |\n",
    "| Bench102    | 50       | Multistart | 10        | 47.90494                    | 161                                  | 137.827                     |\n",
    "| Bench102    | 70       | Heuristic  | 15        | 68.63022                    | 220                                  | 0.0                         |\n",
    "| Bench102    | 70       | Multistart | 15        | 68.63022                    | 220                                  | 144.32                      |\n",
    "\n",
    "<center> <b>TAB.3 - HEURISTIC and MULTISTART - Bench</b> </center>\n",
    "\n",
    "#### Risultati Benchmarck ottenuti con Genetic Algorithm\n",
    "\n",
    "Anche la metaeuristica Genetic Algorithm è riuscita a valutare tutte le soluzioni ma i tempi di esecuzione sono aumentati.\n",
    "\n",
    "| **Istanza** | **DMAX** | **Metodo** | **N.POI** | **Lunghezza percorso 100x(km)** | **Valore di soddisfazione (TOTALE)** | **Tempo di esecuzione (s)** |\n",
    "|-------------|----------|------------|-----------|-----------------------------|--------------------------------------|-----------------------------|\n",
    "| Bench32     | 20       | G.A.       | 8         | 19.20467                    | 60                                   | 2.67199                     |\n",
    "| Bench32     | 50       | G.A.       | 17        | 49.55133                    | 140                                  | 10.17617                    |\n",
    "| Bench32     | 70       | G.A.       | 21        | 68.64283                    | 185                                  | 13.6832                     |\n",
    "| Bench52     | 20       | G.A.       | 7         | 17.37802                    | 125                                  | 2.22664                     |\n",
    "| Bench52     | 50       | G.A.       | 13        | 49.7015                     | 206                                  | 6.14363                     |\n",
    "| Bench52     | 70       | G.A.       | 14        | 65.04336                    | 268                                  | 7.09413                     |\n",
    "| Bench102    | 20       | G.A.       | 4         | 18.00779                    | 30                                   | 1.87008                     |\n",
    "| Bench102    | 50       | G.A.       | 7         | 49.71365                    | 122                                  | 3.27498                     |\n",
    "| Bench102    | 70       | G.A.       | 9         | 63.42017                    | 152                                  | 4.38975                     |\n",
    "\n",
    "<center> <b>TAB.4 - Genetic Algorithm - Bench</b> </center>"
   ]
  },
  {
   "attachments": {},
   "cell_type": "markdown",
   "id": "d0236f2d",
   "metadata": {},
   "source": [
    "#### Confronti grafici L.C vs MTZ vs G.A vs HEURISTIC vs MULTISTART\n",
    "\n",
    "Dai grafici si può notare come i risultati delle euristiche siano mediamente distanti dai risultati ottenuti dagli algoritmi esatti, a meno di alcuni valori ravvicinati per DMAX pari a 50 nel caso di Bench32.\n",
    "\n",
    "![Bench32Versus](./Immagini_Jupyter/Bench32Versus.png)\n"
   ]
  },
  {
   "attachments": {},
   "cell_type": "markdown",
   "id": "cdfe7971",
   "metadata": {},
   "source": [
    "![Bench52Versus](./Immagini_Jupyter/Bench52Versus.png)"
   ]
  },
  {
   "attachments": {},
   "cell_type": "markdown",
   "id": "caaaf37f",
   "metadata": {},
   "source": [
    "![Bench102Versus](./Immagini_Jupyter/Bench102Versus.png)\n",
    "\n",
    "Si noti che in alcuni grafici non si è riuscito a valutare più di una soluzione per i motivi sopra indicati."
   ]
  },
  {
   "attachments": {},
   "cell_type": "markdown",
   "id": "aa9c8a93",
   "metadata": {},
   "source": [
    "#### Confronti grafici tempi di esecuzione L.C vs MTZ vs G.A vs HEURISTIC vs MULTISTART\n",
    "\n",
    "Dai seguenti grafici è possibile notare come l'algoritmo esatto impiega più tempo per valutare la soluzione.\n",
    "\n",
    "![Bench32Time](./Immagini_Jupyter/Bench32Time.png)"
   ]
  },
  {
   "attachments": {},
   "cell_type": "markdown",
   "id": "8828f58f",
   "metadata": {},
   "source": [
    "![Bench52Time](./Immagini_Jupyter/Bench52Time.png)"
   ]
  },
  {
   "attachments": {},
   "cell_type": "markdown",
   "id": "7a340d0c",
   "metadata": {},
   "source": [
    "![Bench102Time](./Immagini_Jupyter/Bench102Time.png)"
   ]
  },
  {
   "cell_type": "markdown",
   "id": "eb230263",
   "metadata": {},
   "source": [
    "#### Valutazione GAP tra gli algoritmi risolutivi \n",
    "\n",
    "Si è valutata una stima di errore tra gli algoritmi euristici ed esatti utilizzando la formula:\n",
    "\n",
    "\\begin{equation}\n",
    " GAP_{percentuale} = \\frac{|OPT-EUR|}{OPT}*100\n",
    "\\end{equation}\n",
    "\n",
    "Si noti che si è preso in considerazione il risultato ottenuto dall'algoritmo esatto con i vincoli di **Lazy Constraints** e DMAX = 20 poichè si è riuscito ad ottenere sempre la soluzione ottima. \n",
    "\n",
    "Dal grafico si può notare come per il Bench102 non si distacchi dalla soluzione ottima mentre per il Bench52 c'è un distacco dell 30% ed infine, per Bench32 ci sia un distacco del 18%.\n",
    "\n",
    "| **Istanza** | **DMAX** | **Algoritmo euristico** | **Valore di Soddisfazione EUR (TOTALE)** | **Valore di Soddisfazione OPT (TOTALE)** | **GAP** |\n",
    "|-------------|----------|-------------------------|------------------------------------------|------------------------------------------|---------|\n",
    "| Bench32     | 20       | Heuristic               | 55                                       | 65                                       | 18%     |\n",
    "| Bench32     | 20       | Multistart              | 55                                       | 65                                       | 18%     |\n",
    "| Bench32     | 20       | GA                      | 60                                       | 65                                       | 7%      |\n",
    "| Bench52     | 20       | Heuristic               | 101                                      | 146                                      | 30%     |\n",
    "| Bench52     | 20       | Multistart              | 101                                      | 146                                      | 30%     |\n",
    "| Bench52     | 20       | GA                      | 125                                      | 146                                      | 14%     |\n",
    "| Bench102    | 20       | Heuristic               | 32                                       | 32                                       | 0%      |\n",
    "| Bench102    | 20       | Multistart              | 32                                       | 32                                       | 0%      |\n",
    "| Bench102    | 20       | GA                      | 30                                       | 32                                       | 6%      |\n",
    "\n",
    "<center> <b>TAB.5 - Confronti GAP</b> </center>"
   ]
  },
  {
   "cell_type": "markdown",
   "id": "3423c7d1",
   "metadata": {},
   "source": [
    "### Risultati analisi dell'applicazione reale:\n",
    "\n",
    "I risultati ottenuti nell'applicazione reale sono i seguenti:\n",
    "\n",
    "*N.B.: I valori di DMAX usati vanno intesi con un fattore di moltiplicazione di 100, al fine, di esprimerli in km.*"
   ]
  },
  {
   "cell_type": "markdown",
   "id": "8afadb89",
   "metadata": {},
   "source": [
    "#### Risultati ottenuti con i vincoli di Lazy Constraints\n",
    "\n",
    "\n",
    "| **Istanza**                                  | **DMAX** | **Metodo** | **N.POI** | **Lunghezza percorso 100x(km)** | **Valore di soddisfazione (TOTALE)** | **Tempo di esecuzione (s)** |\n",
    "|----------------------------------------------|----------|------------|-----------|-----------------------------|--------------------------------------|-----------------------------|\n",
    "| Scavi_Archeologici_Pompei_Anfiteatro_Misteri | 0.02     | OPT L.C.   | 17        | 0.01998                     | 45                                   | 0.134                       |\n",
    "| Scavi_Archeologici_Pompei_Anfiteatro_Misteri | 0.03     | OPT L.C.   | 31        | 0.02996                     | 102                                  | 0.861                       |\n",
    "| Scavi_Archeologici_Pompei_Anfiteatro_Misteri | 0.04     | OPT L.C.   | 41        | 0.0398                      | 130                                  | 0.321                       |\n",
    "| Scavi_Archeologici_Pompei_Marina_Misteri     | 0.02     | OPT L.C.   | 20        | 0.01973                     | 69                                   | 10.212                      |\n",
    "| Scavi_Archeologici_Pompei_Marina_Misteri     | 0.03     | OPT L.C.   | 33        | 0.0298                      | 105                                  | 22.605                      |\n",
    "| Scavi_Archeologici_Pompei_Marina_Misteri     | 0.04     | OPT L.C.   | 40        | 0.03993                     | 128                                  | 20.868                      |\n",
    "| Scavi_Archeologici_Pompei_Marina_Anfiteatro  | 0.02     | OPT L.C.   | 25        | 0.01982                     | 83                                   | 0.155                       |\n",
    "| Scavi_Archeologici_Pompei_Marina_Anfiteatro  | 0.03     | OPT L.C.   | 36        | 0.02975                     | 117                                  | 0.23                        |\n",
    "| Scavi_Archeologici_Pompei_Marina_Anfiteatro  | 0.04     | OPT L.C.   | 41        | 0.03992                     | 130                                  | 0.329                       |\n",
    "\n",
    "<center> <b>TAB.6 - Lazy Constraints - Scavi Archeologici Pompei</b> </center>"
   ]
  },
  {
   "cell_type": "markdown",
   "id": "ef9e6072",
   "metadata": {},
   "source": [
    "#### Risultati ottenuti con i vincoli di MTZ\n",
    "\n",
    "\n",
    "| **Istanza**                                  | **DMAX** | **Metodo** | **N.POI** | **Lunghezza percorso 100x(km)** | **Valore di soddisfazione (TOTALE)** | **Tempo di esecuzione (s)** |\n",
    "|----------------------------------------------|----------|------------|-----------|-----------------------------|--------------------------------------|-----------------------------|\n",
    "| Scavi_Archeologici_Pompei_Marina_Misteri     | 0.02     | OPT MTZ    | 21        | 0.01994                     | 68.0                                 | 81.873*                     |\n",
    "| Scavi_Archeologici_Pompei_Marina_Misteri     | 0.03     | OPT MTZ    | 29        | 0.02992                     | 96.0                                 | 102.885*                    |\n",
    "| Scavi_Archeologici_Pompei_Marina_Misteri     | 0.04     | OPT MTZ    | 34        | 0.03836                     | 105.0                                | 2.902*                      |\n",
    "| Scavi_Archeologici_Pompei_Anfiteatro_Misteri | 0.02     | OPT MTZ    | 17        | 0.01983                     | 45.0                                 | 0.217                       |\n",
    "| Scavi_Archeologici_Pompei_Anfiteatro_Misteri | 0.03     | OPT MTZ    | 31        | 0.02999                     | 100.0                                | 76.698***                   |\n",
    "| Scavi_Archeologici_Pompei_Anfiteatro_Misteri | 0.04     | OPT MTZ    | 38        | 0.03919                     | 122.0                                | 4.349***                    |\n",
    "| Scavi_Archeologici_Pompei_Marina_Anfiteatro  | 0.02     | OPT MTZ    | 24        | 0.01997                     | 83.0                                 | 1.454                       |\n",
    "| Scavi_Archeologici_Pompei_Marina_Anfiteatro  | 0.03     | OPT MTZ    | 36        | 0.02992                     | 117.0                                | 3.902                       |\n",
    "| Scavi_Archeologici_Pompei_Marina_Anfiteatro  | 0.04     | OPT MTZ    | 41        | 0.03992                     | 130.0                                | 78.703                      |\n",
    "\n",
    "<center> <b>TAB.7 - MTZ - Scavi Archeologici Pompei</b> </center>\n",
    "\n",
    "\n",
    "Ci sono risultati in cui si è aggiunto il: \\\n",
    "MIPGap = 10% $^{***}$ \\\n",
    "MIPGap = 50% $^{**}$  \\\n",
    "MIPGap = 30% $^*$"
   ]
  },
  {
   "cell_type": "markdown",
   "id": "fee42d0c",
   "metadata": {},
   "source": [
    "#### Risultati ottenuti con l'Heuristic e Multistart\n",
    "\n",
    "Anche in questo caso l'euristica greedy ha restituito una soluzione iniziale istantaneamente. Per qualsiasi istanza il multistart è stato eseguito in 4-5s circa, tuttavia, con risultati discreti.\n",
    "\n",
    "| **Istanza**                                  | **DMAX** | **Metodo** | **N.POI** | **Lunghezza percorso 100x(km)** | **Valore di soddisfazione (TOTALE)** | **Tempo di esecuzione (s)** |\n",
    "|----------------------------------------------|----------|------------|-----------|-----------------------------|--------------------------------------|-----------------------------|\n",
    "| Scavi_Archeologici_Pompei_Marina_Misteri     | 0.02     | Heuristic  | 16        | 0.01966                     | 57                                   | 0.0                         |\n",
    "| Scavi_Archeologici_Pompei_Marina_Misteri     | 0.02     | Multistart | 16        | 0.01966                     | 57                                   | 4.655                       |\n",
    "| Scavi_Archeologici_Pompei_Marina_Misteri     | 0.03     | Heuristic  | 21        | 0.02994                     | 74                                   | 0.0                         |\n",
    "| Scavi_Archeologici_Pompei_Marina_Misteri     | 0.03     | Multistart | 21        | 0.02994                     | 74                                   | 4.511                       |\n",
    "| Scavi_Archeologici_Pompei_Marina_Misteri     | 0.04     | Heuristic  | 31        | 0.03968                     | 92                                   | 0.008                       |\n",
    "| Scavi_Archeologici_Pompei_Marina_Misteri     | 0.04     | Multistart | 31        | 0.03968                     | 92                                   | 4.744                       |\n",
    "| Scavi_Archeologici_Pompei_Anfiteatro_Misteri | 0.02     | Heuristic  | 10        | 0.01992                     | 31                                   | 0.0                         |\n",
    "| Scavi_Archeologici_Pompei_Anfiteatro_Misteri | 0.02     | Multistart | 10        | 0.01992                     | 36                                   | 4.796                       |\n",
    "| Scavi_Archeologici_Pompei_Anfiteatro_Misteri | 0.03     | Heuristic  | 14        | 0.02973                     | 49                                   | 0.0                         |\n",
    "| Scavi_Archeologici_Pompei_Anfiteatro_Misteri | 0.03     | Multistart | 14        | 0.02973                     | 63                                   | 4.7                         |\n",
    "| Scavi_Archeologici_Pompei_Anfiteatro_Misteri | 0.04     | Heuristic  | 19        | 0.03849                     | 68                                   | 0.0                         |\n",
    "| Scavi_Archeologici_Pompei_Anfiteatro_Misteri | 0.04     | Multistart | 19        | 0.03849                     | 72                                   | 4.621                       |\n",
    "| Scavi_Archeologici_Pompei_Marina_Anfiteatro  | 0.02     | Heuristic  | 11        | 0.01900                     | 41                                   | 0.0                         |\n",
    "| Scavi_Archeologici_Pompei_Marina_Anfiteatro  | 0.02     | Multistart | 11        | 0.01900                     | 44                                   | 4.544                       |\n",
    "| Scavi_Archeologici_Pompei_Marina_Anfiteatro  | 0.03     | Heuristic  | 12        | 0.02991                     | 45                                   | 0.0                         |\n",
    "| Scavi_Archeologici_Pompei_Marina_Anfiteatro  | 0.03     | Multistart | 12        | 0.02991                     | 45                                   | 4.712                       |\n",
    "| Scavi_Archeologici_Pompei_Marina_Anfiteatro  | 0.04     | Heuristic  | 15        | 0.03977                     | 57                                   | 0.0                         |\n",
    "| Scavi_Archeologici_Pompei_Marina_Anfiteatro  | 0.04     | Multistart | 15        | 0.03977                     | 59                                   | 4.52                        |\n",
    "\n",
    "<center> <b>TAB.8 - Heuristic and Multistart - Scavi Archeologici Pompei</b> </center>"
   ]
  },
  {
   "cell_type": "markdown",
   "id": "93990d80",
   "metadata": {},
   "source": [
    "#### Risultati test ottenuti con Genetic Algorithm\n",
    "\n",
    "| **Istanza**                                  | **DMAX** | **Metodo** | **N.POI** | **Lunghezza percorso 100x(km)** | **Valore di soddisfazione (TOTALE)** | **Tempo di esecuzione (s)** |\n",
    "|----------------------------------------------|----------|------------|-----------|-----------------------------|--------------------------------------|-----------------------------|\n",
    "| Scavi_Archeologici_Pompei_Anfiteatro_Misteri | 0.02     | G.A.       | 12        | 0.02                        | 34                                   | 5.61531                     |\n",
    "| Scavi_Archeologici_Pompei_Anfiteatro_Misteri | 0.03     | G.A.       | 17        | 0.02968                     | 55                                   | 7.26095                     |\n",
    "| Scavi_Archeologici_Pompei_Anfiteatro_Misteri | 0.04     | G.A.       | 23        | 0.03993                     | 76                                   | 13.66032                    |\n",
    "| Scavi_Archeologici_Pompei_Marina_Misteri     | 0.02     | G.A.       | 13        | 0.01925                     | 45                                   | 5.4919                      |\n",
    "| Scavi_Archeologici_Pompei_Marina_Misteri     | 0.03     | G.A.       | 19        | 0.02948                     | 60                                   | 11.61109                    |\n",
    "| Scavi_Archeologici_Pompei_Marina_Misteri     | 0.04     | G.A.       | 22        | 0.03992                     | 70                                   | 13.16124                    |\n",
    "| Scavi_Archeologici_Pompei_Marina_Anfiteatro  | 0.02     | G.A.       | 17        | 0.0196                      | 58                                   | 7.90045                     |\n",
    "| Scavi_Archeologici_Pompei_Marina_Anfiteatro  | 0.03     | G.A.       | 20        | 0.02945                     | 61                                   | 7.73607                     |\n",
    "| Scavi_Archeologici_Pompei_Marina_Anfiteatro  | 0.04     | G.A.       | 26        | 0.03847                     | 77                                   | 20.10366                    |\n",
    "\n",
    "<center> <b>TAB.9 - Genetic Algorithm - Scavi Archeologici Pompei</b> </center>"
   ]
  },
  {
   "attachments": {},
   "cell_type": "markdown",
   "id": "d72d039e",
   "metadata": {},
   "source": [
    "#### Confronti grafici L.C vs MTZ vs G.A vs HEURISTIC vs MULTISTART\n",
    "\n",
    "Si è provato a fare un test dei risultati con il percorso Piazza Anfiteatro - Villa dei Misteri.\n",
    "In questo caso i risultati migliori si sono ottenuti con l'algoritmo esatto con i vincoli MTZ\n",
    "\n",
    "![PompeiVersus](./Immagini_Jupyter/PompeiVersus.png)\n"
   ]
  },
  {
   "cell_type": "markdown",
   "id": "af62fd25",
   "metadata": {},
   "source": [
    "#### Valutazione GAP tra gli algoritmi risolutivi \n",
    "\n",
    "| **Istanza**                                  | **DMAX** | **Algoritmo euristico** | **Valore di Soddisfazione EUR (TOTALE)** | **Valore di Soddisfazione OPT (TOTALE)** | **GAP** |\n",
    "|----------------------------------------------|----------|-------------------------|------------------------------------------|------------------------------------------|---------|\n",
    "| Scavi_Archeologici_Pompei_Anfiteatro_Misteri | 0.02     | Heuristic               | 31                                       | 45                                       | 31%     |\n",
    "| Scavi_Archeologici_Pompei_Anfiteatro_Misteri | 0.02     | Multistart              | 36                                       | 45                                       | 20%     |\n",
    "| Scavi_Archeologici_Pompei_Anfiteatro_Misteri | 0.02     | G.A                     | 34                                       | 45                                       | 24%     |\n",
    "\n",
    "<center> <b>TAB.10 - Valutazione GAP  - Scavi Archeologici Pompei - Piazza Anfiteatro > Villa dei Misteri</b> </center>\n"
   ]
  },
  {
   "attachments": {},
   "cell_type": "markdown",
   "id": "141c24bc",
   "metadata": {},
   "source": [
    "#### Decisioni itinerario dall'algoritmo risolutivo ottimo\n",
    "\n",
    "Dai risultati ottenuti dall'algoritmo esatto è possibile prendere una possibile decisione di itinerario per la visita nel sito archeologico. In particolare analizzando la **TAB.6** si è deciso di definire 3 itinerari:\n",
    "\n",
    "| Entrata/Uscita scelta                 | Valore di Soddisfazione (TOTALE) | N.POI | Ore circa di percorrenza |\n",
    "|---------------------------------------|----------------------------------|-------|------------------------|\n",
    "| Porta Marina - Piazza Anfiteatro      | 83                               | 25    | 4                      |\n",
    "| Porta Marina - Villa dei Misteri      | 105                              | 33    | 6                      |\n",
    "| Piazza Anfiteatro - Villa dei Misteri | 130                              | 41    | 8                      |\n",
    "\n",
    "**Criterio di decisione:** sulla base del DMAX, si sceglie il percorso che ha avuto il valore di soddisfazione maggiore. \\\n",
    "**Criterio di valutazione delle ore:** si è considerato la velocità media di camminata tra un POI(nodo) all'altro (5 km/h) e una media di visita per ogni POI di 10 minuti circa. \n",
    "\n",
    "#### Percorso Porta Marina - Piazza Anfiteatro\n",
    "\n",
    "Porta Marina (0) > Piazza Anfiteatro (24) - 1.982 Km percorribili (lda)\n",
    "\n",
    "![ItinerarioMarinaAnfiteatro](./Immagini_Jupyter/ItinerarioMarinaAnfiteatro.jpeg)\n"
   ]
  },
  {
   "attachments": {},
   "cell_type": "markdown",
   "id": "8be64f20",
   "metadata": {},
   "source": [
    "#### Percorso Porta Marina - Villa dei Misteri\n",
    "\n",
    "Porta Marina (0) > Villa dei Misteri (32) - 2.98 Km percorribili (lda)\n",
    "\n",
    "![ItinerarioMarinaMisteri](./Immagini_Jupyter/ItinerarioMarinaMisteri.jpeg)\n"
   ]
  },
  {
   "attachments": {},
   "cell_type": "markdown",
   "id": "682717d7",
   "metadata": {},
   "source": [
    "#### Percorso Piazza Anfiteatro - Villa dei Misteri\n",
    "\n",
    "Piazza Anfitatro (0) > Villa dei Misteri (40) - 3.98 Km percorribili (lda)\n",
    "\n",
    "![ItinerarioAnfiMisteri](./Immagini_Jupyter/ItinerarioAnfiMisteri.jpeg)\n",
    "\n",
    "\n",
    "Per visualizzare il nome di ogni N.POI eseguire il notebook Algoritmo_esatto_Orienteering.ipynb\n"
   ]
  },
  {
   "cell_type": "markdown",
   "id": "c178ec6f",
   "metadata": {},
   "source": [
    "## Bibliografia e Sitografia\n",
    "\n",
    " - A simheuristic-learnheuristic algorithm for the Orienteering problem, https://informs-sim.org/wsc20papers/145.pdf\n",
    " - Heuristic for Orienteering Problem, https://github.com/mattianeroni/MSTOP\n",
    " - A Genetic Algorithm with Grouping Selection and Searching Operators for the Orienteering Problem, https://link.springer.com/chapter/10.1007/978-3-319-15705-4_4\n",
    " - GA for Orienteering Problem, https://github.com/LongShushen/using-GA-with-group-selection-to-solve-Orienteering-Problem \n",
    " - Dispense degli AUTORI"
   ]
  },
  {
   "cell_type": "code",
   "execution_count": null,
   "id": "19d9e5a7",
   "metadata": {},
   "outputs": [],
   "source": []
  }
 ],
 "metadata": {
  "kernelspec": {
   "display_name": "Python 3 (ipykernel)",
   "language": "python",
   "name": "python3"
  },
  "language_info": {
   "codemirror_mode": {
    "name": "ipython",
    "version": 3
   },
   "file_extension": ".py",
   "mimetype": "text/x-python",
   "name": "python",
   "nbconvert_exporter": "python",
   "pygments_lexer": "ipython3",
   "version": "3.9.7"
  },
  "vscode": {
   "interpreter": {
    "hash": "bc88ece4a71226d2b040490c648e01366ee9687ac09cde409fcfde11805ceeb2"
   }
  }
 },
 "nbformat": 4,
 "nbformat_minor": 5
}
