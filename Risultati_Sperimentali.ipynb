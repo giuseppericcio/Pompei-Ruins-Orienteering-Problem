{
 "cells": [
  {
   "cell_type": "markdown",
   "id": "d28b62d4",
   "metadata": {},
   "source": [
    "# Risultati"
   ]
  },
  {
   "cell_type": "markdown",
   "id": "d1bc9394",
   "metadata": {},
   "source": [
    " #### Analisi dell'algoritmo esatto - Risultati delle sperimentazioni\n",
    "\n",
    "I risultati ottenuti nei test benchmark sono i seguenti:"
   ]
  },
  {
   "cell_type": "markdown",
   "id": "b8966de5",
   "metadata": {},
   "source": [
    "| **Istanza** | **DMAX** | **Metodo** | **N.POI** | **Lunghezza percorso (km)** | **Valore di soddisfazione (TOTALE)** | **Tempo di esecuzione (s)** |\n",
    "|-------------|----------|------------|-----------|-----------------------------|--------------------------------------|-----------------------------|\n",
    "| Bench32     | 20       | OPT L.C.   | 9         | 19.6855                     | 65                                   | 2.983                       |\n",
    "| Bench32     | 50       | OPT L.C.   | 23        | 49.99743                    | 190                                  | 2.628                       |\n",
    "| Bench32     | 70       | OPT L.C.   | 28        | 69.12729                    | 260                                  | 0.23                        |\n",
    "| Bench52     | 20       | OPT L.C.   | 8         | 18.51443                    | 146                                  | 0.218                       |\n",
    "| Bench52     | 50       | OPT L.C.   | 21        | 48.50606                    | 313                                  | 54.861                      |\n",
    "| Bench52     | 70       | OPT L.C.   | 27        | 68.3257                     | 436                                  | 37.71                       |\n",
    "| Bench102    | 20       | OPT L.C.   | 4         | 18.03276                    | 32                                   | 30.497                      |\n",
    "| Bench102    | 50       | OPT L.C.   | -         | -                           | -                                    | -                           |\n",
    "| Bench102    | 70       | OPT L.C.   | -         | -                           | -                                    | -                           |\n"
   ]
  },
  {
   "cell_type": "markdown",
   "id": "30dc09e5",
   "metadata": {},
   "source": [
    "| **Istanza** | **DMAX** | **Metodo** | **N.POI** | **Lunghezza percorso (km)** | **Valore di soddisfazione (TOTALE)** | **Tempo di esecuzione (s)** |\n",
    "|-------------|----------|------------|-----------|-----------------------------|--------------------------------------|-----------------------------|\n",
    "| Bench32     | 20       | OPT MTZ    | 9         | 19.93661                    | 65.0                                 | 12.677                      |\n",
    "| Bench32     | 50       | OPT MTZ    | 19        | 49.47709                    | 175.0                                | 4.826*                      |\n",
    "| Bench32     | 70       | OPT MTZ    | 28        | 69.95678                    | 260.0                                | 92.77                       |\n",
    "| Bench52     | 20       | OPT MTZ    | 8         | 18.51443                    | 146.0                                | 0.278                       |\n",
    "| Bench52     | 50       | OPT MTZ    | 21        | 48.50606                    | 313.0                                | 45.515**                    |\n",
    "| Bench52     | 70       | OPT MTZ    | -         | -                           | -                                    | -                           |\n",
    "| Bench102    | 20       | OPT MTZ    | 4         | 18.03276                    | 32.0                                 | 6.778                       |\n",
    "| Bench102    | 50       | OPT MTZ    | -         | -                           | -                                    | -                           |\n",
    "| Bench102    | 70       | OPT MTZ    | -         | -                           | -                                    | -                           |\n"
   ]
  },
  {
   "cell_type": "markdown",
   "id": "3423c7d1",
   "metadata": {},
   "source": [
    "I risultati ottenuti nell'applicazione reale sono i seguenti:"
   ]
  },
  {
   "cell_type": "markdown",
   "id": "8afadb89",
   "metadata": {},
   "source": [
    "| **Istanza**                                  | **DMAX** | **Metodo** | **N.POI** | **Lunghezza percorso (km)** | **Valore di soddisfazione (TOTALE)** | **Tempo di esecuzione (s)** |\n",
    "|----------------------------------------------|----------|------------|-----------|-----------------------------|--------------------------------------|-----------------------------|\n",
    "| Scavi_Archeologici_Pompei_Anfiteatro_Misteri | 0.02     | OPT L.C.   | 17        | 0.01998                     | 45                                   | 0.134                       |\n",
    "| Scavi_Archeologici_Pompei_Anfiteatro_Misteri | 0.03     | OPT L.C.   | 31        | 0.02996                     | 102                                  | 0.861                       |\n",
    "| Scavi_Archeologici_Pompei_Anfiteatro_Misteri | 0.04     | OPT L.C.   | 41        | 0.0398                      | 130                                  | 0.321                       |\n",
    "| Scavi_Archeologici_Pompei_Marina_Misteri     | 0.02     | OPT L.C.   | 20        | 0.01973                     | 69                                   | 10.212                      |\n",
    "| Scavi_Archeologici_Pompei_Marina_Misteri     | 0.03     | OPT L.C.   | 33        | 0.0298                      | 105                                  | 22.605                      |\n",
    "| Scavi_Archeologici_Pompei_Marina_Misteri     | 0.04     | OPT L.C.   | 40        | 0.03993                     | 128                                  | 20.868                      |\n",
    "| Scavi_Archeologici_Pompei_Marina_Anfiteatro  | 0.02     | OPT L.C.   | 25        | 0.01982                     | 83                                   | 0.155                       |\n",
    "| Scavi_Archeologici_Pompei_Marina_Anfiteatro  | 0.03     | OPT L.C.   | 36        | 0.02975                     | 117                                  | 0.23                        |\n",
    "| Scavi_Archeologici_Pompei_Marina_Anfiteatro  | 0.04     | OPT L.C.   | 41        | 0.03992                     | 130                                  | 0.329                       |\n"
   ]
  },
  {
   "cell_type": "markdown",
   "id": "ef9e6072",
   "metadata": {},
   "source": [
    "| **Istanza**                                  | **DMAX** | **Metodo** | **N.POI** | **Lunghezza percorso (km)** | **Valore di soddisfazione (TOTALE)** | **Tempo di esecuzione (s)** |\n",
    "|----------------------------------------------|----------|------------|-----------|-----------------------------|--------------------------------------|-----------------------------|\n",
    "| Scavi_Archeologici_Pompei_Marina_Misteri     | 0.02     | OPT MTZ    | 21        | 0.01994                     | 68.0                                 | 81.873*                     |\n",
    "| Scavi_Archeologici_Pompei_Marina_Misteri     | 0.03     | OPT MTZ    | 29        | 0.02992                     | 96.0                                 | 102.885*                    |\n",
    "| Scavi_Archeologici_Pompei_Marina_Misteri     | 0.04     | OPT MTZ    | 34        | 0.03836                     | 105.0                                | 2.902*                      |\n",
    "| Scavi_Archeologici_Pompei_Anfiteatro_Misteri | 0.02     | OPT MTZ    | 17        | 0.01983                     | 45.0                                 | 0.217                       |\n",
    "| Scavi_Archeologici_Pompei_Anfiteatro_Misteri | 0.03     | OPT MTZ    | 31        | 0.02999                     | 100.0                                | 76.698***                   |\n",
    "| Scavi_Archeologici_Pompei_Anfiteatro_Misteri | 0.04     | OPT MTZ    | 38        | 0.03919                     | 122.0                                | 4.349***                    |\n",
    "| Scavi_Archeologici_Pompei_Marina_Anfiteatro  | 0.02     | OPT MTZ    | 24        | 0.01997                     | 83.0                                 | 1.454                       |\n",
    "| Scavi_Archeologici_Pompei_Marina_Anfiteatro  | 0.03     | OPT MTZ    | 36        | 0.02992                     | 117.0                                | 3.902                       |\n",
    "| Scavi_Archeologici_Pompei_Marina_Anfiteatro  | 0.04     | OPT MTZ    | 41        | 0.03992                     | 130.0                                | 78.703                      |\n",
    "\n",
    "\n",
    "MIPGap = 10% *** <br>\n",
    "MIPGap = 50% ** <br>\n",
    "MIPGap = 30% *"
   ]
  }
 ],
 "metadata": {
  "kernelspec": {
   "display_name": "Python 3 (ipykernel)",
   "language": "python",
   "name": "python3"
  },
  "language_info": {
   "codemirror_mode": {
    "name": "ipython",
    "version": 3
   },
   "file_extension": ".py",
   "mimetype": "text/x-python",
   "name": "python",
   "nbconvert_exporter": "python",
   "pygments_lexer": "ipython3",
   "version": "3.10.2"
  },
  "vscode": {
   "interpreter": {
    "hash": "bc88ece4a71226d2b040490c648e01366ee9687ac09cde409fcfde11805ceeb2"
   }
  }
 },
 "nbformat": 4,
 "nbformat_minor": 5
}
